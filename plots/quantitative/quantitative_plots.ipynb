{
 "cells": [
  {
   "cell_type": "code",
   "execution_count": null,
   "metadata": {},
   "outputs": [
    {
     "ename": "",
     "evalue": "",
     "output_type": "error",
     "traceback": [
      "\u001b[1;31mRunning cells with '.venv (Python 3.10.4)' requires the ipykernel package.\n",
      "\u001b[1;31mRun the following command to install 'ipykernel' into the Python environment. \n",
      "\u001b[1;31mCommand: '/home/tnijdam/Othello-GPT-FeatInterp/.venv/bin/python -m pip install ipykernel -U --force-reinstall'"
     ]
    }
   ],
   "source": [
    "import pandas as pd\n",
    "import matplotlib.pyplot as plt\n",
    "\n",
    "COLOR1 ='lightblue'\n",
    "COLOR2 ='darkblue'"
   ]
  },
  {
   "cell_type": "code",
   "execution_count": null,
   "metadata": {},
   "outputs": [
    {
     "ename": "",
     "evalue": "",
     "output_type": "error",
     "traceback": [
      "\u001b[1;31mRunning cells with '.venv (Python 3.10.4)' requires the ipykernel package.\n",
      "\u001b[1;31mRun the following command to install 'ipykernel' into the Python environment. \n",
      "\u001b[1;31mCommand: '/home/tnijdam/Othello-GPT-FeatInterp/.venv/bin/python -m pip install ipykernel -U --force-reinstall'"
     ]
    }
   ],
   "source": [
    "df = pd.read_csv('results_new.csv')\n",
    "\n",
    "def add_total_features_int(df):\n",
    "    # Rename the old columns to include 'average'\n",
    "    df.rename(columns={\n",
    "        'mine_board_states': 'average_mine_board_states',\n",
    "        'their_board_states': 'average_their_board_states',\n",
    "        'blank_board_states': 'average_blank_board_states'\n",
    "    }, inplace=True)\n",
    "\n",
    "    # Calculate the total number of features and add them to the dataframe, casting to int\n",
    "    df['total_mine_board_states'] = (df['features_active'] * df['average_mine_board_states']).astype(int)\n",
    "    df['total_their_board_states'] = (df['features_active'] * df['average_their_board_states']).astype(int)\n",
    "    df['total_blank_board_states'] = (df['features_active'] * df['average_blank_board_states']).astype(int)\n",
    "\n",
    "    # Add the new column 'total_mine_and_their' to the dataframe\n",
    "    df['total_mine_and_their'] = df['total_mine_board_states'] + df['total_their_board_states']\n",
    "    df['average_mine_and_their'] = df['average_mine_board_states'] + df['average_their_board_states']\n",
    "    return df\n",
    "\n",
    "# Use the function with the provided dataframe\n",
    "df = add_total_features_int(df)\n",
    "display(df)\n",
    "\n",
    "# write to results.csv\n",
    "df.to_csv('results_better.csv', index=False)"
   ]
  },
  {
   "cell_type": "code",
   "execution_count": null,
   "metadata": {},
   "outputs": [
    {
     "ename": "",
     "evalue": "",
     "output_type": "error",
     "traceback": [
      "\u001b[1;31mRunning cells with '.venv (Python 3.10.4)' requires the ipykernel package.\n",
      "\u001b[1;31mRun the following command to install 'ipykernel' into the Python environment. \n",
      "\u001b[1;31mCommand: '/home/tnijdam/Othello-GPT-FeatInterp/.venv/bin/python -m pip install ipykernel -U --force-reinstall'"
     ]
    }
   ],
   "source": [
    "def plot_column_by_layer(df, column, title, color1=COLOR1, color2=COLOR2):\n",
    "\n",
    "    # Filter the dataframe for rows containing 'E8' and 'E16'\n",
    "    df_e8 = df[df['row_name'].str.contains('E8')]\n",
    "    df_e16 = df[df['row_name'].str.contains('E16')]\n",
    "\n",
    "    # Extract labels based on unique layers present in the dataframe\n",
    "    layers = sorted(set(label.split('E')[0] for label in df['row_name']))\n",
    "\n",
    "    e8_values = [df_e8[df_e8['row_name'].str.contains(layer)][column].values[0] if not df_e8[df_e8['row_name'].str.contains(layer)].empty else 0 for layer in layers]\n",
    "    e16_values = [df_e16[df_e16['row_name'].str.contains(layer)][column].values[0] if not df_e16[df_e16['row_name'].str.contains(layer)].empty else 0 for layer in layers]\n",
    "\n",
    "    x = range(len(layers))  # the label locations\n",
    "    width = 0.35  # the width of the bars\n",
    "\n",
    "    plt.figure(figsize=(8, 5))\n",
    "\n",
    "    plt.bar(x, e8_values, width, label='Expansion factor 8', color=color1)\n",
    "    plt.bar([p + width for p in x], e16_values, width, label='Expansion factor 16', color=color2)\n",
    "\n",
    "    ticks_size = 14\n",
    "    title_size = 18\n",
    "    label_size = 16\n",
    "\n",
    "\n",
    "    plt.xlabel('Layer', fontsize=label_size)\n",
    "    plt.ylabel(column.replace('_', ' ').title(), fontsize=label_size)\n",
    "    plt.title(title, fontsize=title_size)\n",
    "    plt.xticks([p + width / 2 for p in x], layers, fontsize=ticks_size)\n",
    "    plt.yticks(fontsize=ticks_size)\n",
    "    plt.legend(fontsize=ticks_size)\n",
    "    plt.tight_layout()\n",
    "\n",
    "    plt.show()\n",
    "\n",
    "# Example usage of the function\n",
    "plot_column_by_layer(df, 'features_active', 'Features with at least 1 mine/their tile')"
   ]
  },
  {
   "cell_type": "code",
   "execution_count": null,
   "metadata": {},
   "outputs": [
    {
     "ename": "",
     "evalue": "",
     "output_type": "error",
     "traceback": [
      "\u001b[1;31mRunning cells with '.venv (Python 3.10.4)' requires the ipykernel package.\n",
      "\u001b[1;31mRun the following command to install 'ipykernel' into the Python environment. \n",
      "\u001b[1;31mCommand: '/home/tnijdam/Othello-GPT-FeatInterp/.venv/bin/python -m pip install ipykernel -U --force-reinstall'"
     ]
    }
   ],
   "source": [
    "plot_column_by_layer(df, 'total_mine_and_their', 'Total mine/their tiles in layer', color1=COLOR1, color2=COLOR2)\n"
   ]
  },
  {
   "cell_type": "code",
   "execution_count": null,
   "metadata": {},
   "outputs": [
    {
     "ename": "",
     "evalue": "",
     "output_type": "error",
     "traceback": [
      "\u001b[1;31mRunning cells with '.venv (Python 3.10.4)' requires the ipykernel package.\n",
      "\u001b[1;31mRun the following command to install 'ipykernel' into the Python environment. \n",
      "\u001b[1;31mCommand: '/home/tnijdam/Othello-GPT-FeatInterp/.venv/bin/python -m pip install ipykernel -U --force-reinstall'"
     ]
    }
   ],
   "source": [
    "plot_column_by_layer(df, 'average_mine_and_their', 'Average mine/their tiles per feature', color1=COLOR1, color2=COLOR2)\n"
   ]
  },
  {
   "cell_type": "code",
   "execution_count": null,
   "metadata": {},
   "outputs": [
    {
     "ename": "",
     "evalue": "",
     "output_type": "error",
     "traceback": [
      "\u001b[1;31mRunning cells with '.venv (Python 3.10.4)' requires the ipykernel package.\n",
      "\u001b[1;31mRun the following command to install 'ipykernel' into the Python environment. \n",
      "\u001b[1;31mCommand: '/home/tnijdam/Othello-GPT-FeatInterp/.venv/bin/python -m pip install ipykernel -U --force-reinstall'"
     ]
    }
   ],
   "source": [
    "plot_column_by_layer(df, 'total_blank_board_states', 'Total blank tiles in layer', color1=COLOR1, color2=COLOR2)\n"
   ]
  },
  {
   "cell_type": "code",
   "execution_count": null,
   "metadata": {},
   "outputs": [
    {
     "ename": "",
     "evalue": "",
     "output_type": "error",
     "traceback": [
      "\u001b[1;31mRunning cells with '.venv (Python 3.10.4)' requires the ipykernel package.\n",
      "\u001b[1;31mRun the following command to install 'ipykernel' into the Python environment. \n",
      "\u001b[1;31mCommand: '/home/tnijdam/Othello-GPT-FeatInterp/.venv/bin/python -m pip install ipykernel -U --force-reinstall'"
     ]
    }
   ],
   "source": [
    "plot_column_by_layer(df, 'average_blank_board_states', 'Average blank tiles in layer', color1=COLOR1, color2=COLOR2)\n"
   ]
  },
  {
   "cell_type": "code",
   "execution_count": null,
   "metadata": {},
   "outputs": [
    {
     "ename": "",
     "evalue": "",
     "output_type": "error",
     "traceback": [
      "\u001b[1;31mRunning cells with '.venv (Python 3.10.4)' requires the ipykernel package.\n",
      "\u001b[1;31mRun the following command to install 'ipykernel' into the Python environment. \n",
      "\u001b[1;31mCommand: '/home/tnijdam/Othello-GPT-FeatInterp/.venv/bin/python -m pip install ipykernel -U --force-reinstall'"
     ]
    }
   ],
   "source": [
    "plot_column_by_layer(df, 'avg_seq_lens', 'avg_seq_lens', color1=COLOR1, color2=COLOR2)\n"
   ]
  }
 ],
 "metadata": {
  "kernelspec": {
   "display_name": "base",
   "language": "python",
   "name": "python3"
  },
  "language_info": {
   "codemirror_mode": {
    "name": "ipython",
    "version": 3
   },
   "file_extension": ".py",
   "mimetype": "text/x-python",
   "name": "python",
   "nbconvert_exporter": "python",
   "pygments_lexer": "ipython3",
   "version": "3.10.4"
  }
 },
 "nbformat": 4,
 "nbformat_minor": 2
}
